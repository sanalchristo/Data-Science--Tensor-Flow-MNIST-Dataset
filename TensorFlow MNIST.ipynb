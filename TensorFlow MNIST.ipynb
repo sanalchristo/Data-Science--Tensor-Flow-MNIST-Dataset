{
 "cells": [
  {
   "cell_type": "markdown",
   "id": "07dd18ed",
   "metadata": {},
   "source": [
    "## Importing Libraries"
   ]
  },
  {
   "cell_type": "code",
   "execution_count": 1,
   "id": "63d92d5a",
   "metadata": {},
   "outputs": [],
   "source": [
    "import numpy as np"
   ]
  },
  {
   "cell_type": "code",
   "execution_count": 2,
   "id": "763238f7",
   "metadata": {},
   "outputs": [],
   "source": [
    "import tensorflow as tf\n"
   ]
  },
  {
   "cell_type": "code",
   "execution_count": 3,
   "id": "c6f6134d",
   "metadata": {},
   "outputs": [],
   "source": [
    "import tensorflow_datasets as tfds\n"
   ]
  },
  {
   "cell_type": "markdown",
   "id": "442d29e7",
   "metadata": {},
   "source": [
    "## Data"
   ]
  },
  {
   "cell_type": "code",
   "execution_count": 4,
   "id": "71c8f852",
   "metadata": {},
   "outputs": [],
   "source": [
    "mnist_dataset, mnist_info= tfds.load(name='mnist', with_info= True, as_supervised= True)"
   ]
  },
  {
   "cell_type": "code",
   "execution_count": 5,
   "id": "e6fad9d6",
   "metadata": {},
   "outputs": [],
   "source": [
    "mnist_train, mnist_test= mnist_dataset['train'], mnist_dataset['test']"
   ]
  },
  {
   "cell_type": "code",
   "execution_count": 6,
   "id": "a8eb1d54",
   "metadata": {},
   "outputs": [],
   "source": [
    "num_validation_samples= 0.1 * mnist_info.splits['train'].num_examples"
   ]
  },
  {
   "cell_type": "code",
   "execution_count": 7,
   "id": "cb1d1c46",
   "metadata": {},
   "outputs": [],
   "source": [
    "num_validation_samples= tf.cast(num_validation_samples, dtype=tf.int64)"
   ]
  },
  {
   "cell_type": "code",
   "execution_count": 8,
   "id": "cbd1b309",
   "metadata": {},
   "outputs": [],
   "source": [
    "num_test_samples= mnist_info.splits['test'].num_examples"
   ]
  },
  {
   "cell_type": "code",
   "execution_count": 9,
   "id": "3e183497",
   "metadata": {},
   "outputs": [],
   "source": [
    "num_test_samples= tf.cast(num_test_samples, dtype=tf.int64)"
   ]
  },
  {
   "cell_type": "markdown",
   "id": "9c50715f",
   "metadata": {},
   "source": [
    "### Scaling the data"
   ]
  },
  {
   "cell_type": "code",
   "execution_count": 10,
   "id": "cbafa1bb",
   "metadata": {},
   "outputs": [],
   "source": [
    "def scale(image,label):\n",
    "    image= tf.cast(image, tf.float32)\n",
    "    image= image/255.\n",
    "    return image,label"
   ]
  },
  {
   "cell_type": "code",
   "execution_count": 11,
   "id": "14c4e303",
   "metadata": {},
   "outputs": [],
   "source": [
    "scaled_train_and_validation_data= mnist_train.map(scale)"
   ]
  },
  {
   "cell_type": "code",
   "execution_count": 12,
   "id": "bad0c39b",
   "metadata": {},
   "outputs": [],
   "source": [
    "test_data= mnist_test.map(scale)"
   ]
  },
  {
   "cell_type": "markdown",
   "id": "62c52aa2",
   "metadata": {},
   "source": [
    "### Shuffling the data"
   ]
  },
  {
   "cell_type": "code",
   "execution_count": 13,
   "id": "a1c4937d",
   "metadata": {},
   "outputs": [],
   "source": [
    "BUFFER_SIZE= 10000"
   ]
  },
  {
   "cell_type": "code",
   "execution_count": 14,
   "id": "82596dd1",
   "metadata": {},
   "outputs": [],
   "source": [
    "shuffled_train_and_validation_data= scaled_train_and_validation_data.shuffle(BUFFER_SIZE)"
   ]
  },
  {
   "cell_type": "code",
   "execution_count": 15,
   "id": "0ce9d29a",
   "metadata": {},
   "outputs": [],
   "source": [
    "validation_data= shuffled_train_and_validation_data.take(num_validation_samples)"
   ]
  },
  {
   "cell_type": "code",
   "execution_count": 16,
   "id": "c9e610f1",
   "metadata": {},
   "outputs": [],
   "source": [
    "train_data= shuffled_train_and_validation_data.skip(num_validation_samples)"
   ]
  },
  {
   "cell_type": "markdown",
   "id": "a5298e23",
   "metadata": {},
   "source": [
    "### Batching"
   ]
  },
  {
   "cell_type": "code",
   "execution_count": 17,
   "id": "f74fd4e4",
   "metadata": {},
   "outputs": [],
   "source": [
    "BATCH_SIZE=100"
   ]
  },
  {
   "cell_type": "code",
   "execution_count": 18,
   "id": "ad21fb06",
   "metadata": {},
   "outputs": [],
   "source": [
    "train_data= train_data.batch(BATCH_SIZE)"
   ]
  },
  {
   "cell_type": "code",
   "execution_count": 19,
   "id": "ca22a444",
   "metadata": {},
   "outputs": [],
   "source": [
    "validation_data= validation_data.batch(num_validation_samples)"
   ]
  },
  {
   "cell_type": "code",
   "execution_count": 20,
   "id": "866a0d60",
   "metadata": {},
   "outputs": [],
   "source": [
    "test_data= test_data.batch(num_test_samples)"
   ]
  },
  {
   "cell_type": "code",
   "execution_count": 21,
   "id": "cd6944f1",
   "metadata": {},
   "outputs": [],
   "source": [
    "validation_inputs, validation_targets = next(iter(validation_data))"
   ]
  },
  {
   "cell_type": "markdown",
   "id": "bf8045c6",
   "metadata": {},
   "source": [
    "## Model"
   ]
  },
  {
   "cell_type": "markdown",
   "id": "56536564",
   "metadata": {},
   "source": [
    "### Outlining the model"
   ]
  },
  {
   "cell_type": "code",
   "execution_count": 22,
   "id": "483acf7d",
   "metadata": {},
   "outputs": [],
   "source": [
    "input_size=784"
   ]
  },
  {
   "cell_type": "code",
   "execution_count": 23,
   "id": "1fbbffb8",
   "metadata": {},
   "outputs": [],
   "source": [
    "output_size=10"
   ]
  },
  {
   "cell_type": "code",
   "execution_count": 24,
   "id": "a37b5191",
   "metadata": {},
   "outputs": [],
   "source": [
    "hidden_layer_size=50"
   ]
  },
  {
   "cell_type": "code",
   "execution_count": 25,
   "id": "b5c930b1",
   "metadata": {},
   "outputs": [],
   "source": [
    "model= tf.keras.Sequential([\n",
    "    tf.keras.layers.Flatten(input_shape=(28,28,1)),\n",
    "    tf.keras.layers.Dense(hidden_layer_size, activation='relu'),\n",
    "    tf.keras.layers.Dense(hidden_layer_size, activation='relu'),\n",
    "    tf.keras.layers.Dense(output_size, activation='softmax')\n",
    "])"
   ]
  },
  {
   "cell_type": "markdown",
   "id": "4265d120",
   "metadata": {},
   "source": [
    "### Choose the optimizer and loss function"
   ]
  },
  {
   "cell_type": "code",
   "execution_count": 26,
   "id": "57b542cd",
   "metadata": {},
   "outputs": [],
   "source": [
    "model.compile(optimizer='adam', loss='sparse_categorical_crossentropy', metrics=['accuracy'])"
   ]
  },
  {
   "cell_type": "markdown",
   "id": "0a214bc5",
   "metadata": {},
   "source": [
    "### Training the model"
   ]
  },
  {
   "cell_type": "code",
   "execution_count": 27,
   "id": "c4e21ece",
   "metadata": {},
   "outputs": [],
   "source": [
    "NUM_EPOCHS=5"
   ]
  },
  {
   "cell_type": "code",
   "execution_count": 28,
   "id": "1754d508",
   "metadata": {},
   "outputs": [
    {
     "name": "stdout",
     "output_type": "stream",
     "text": [
      "Epoch 1/5\n",
      "540/540 - 2s - loss: 0.4047 - accuracy: 0.8863 - val_loss: 0.2172 - val_accuracy: 0.9342 - 2s/epoch - 4ms/step\n",
      "Epoch 2/5\n",
      "540/540 - 2s - loss: 0.1803 - accuracy: 0.9475 - val_loss: 0.1648 - val_accuracy: 0.9498 - 2s/epoch - 4ms/step\n",
      "Epoch 3/5\n",
      "540/540 - 2s - loss: 0.1399 - accuracy: 0.9587 - val_loss: 0.1385 - val_accuracy: 0.9608 - 2s/epoch - 4ms/step\n",
      "Epoch 4/5\n",
      "540/540 - 2s - loss: 0.1139 - accuracy: 0.9664 - val_loss: 0.1084 - val_accuracy: 0.9677 - 2s/epoch - 4ms/step\n",
      "Epoch 5/5\n",
      "540/540 - 2s - loss: 0.0977 - accuracy: 0.9709 - val_loss: 0.1003 - val_accuracy: 0.9690 - 2s/epoch - 4ms/step\n"
     ]
    },
    {
     "data": {
      "text/plain": [
       "<keras.src.callbacks.History at 0x28e826d2080>"
      ]
     },
     "execution_count": 28,
     "metadata": {},
     "output_type": "execute_result"
    }
   ],
   "source": [
    "model.fit(train_data, epochs=NUM_EPOCHS, validation_data=(validation_inputs, validation_targets), verbose=2)"
   ]
  },
  {
   "cell_type": "markdown",
   "id": "a6705ce5",
   "metadata": {},
   "source": [
    "## Testing the model"
   ]
  },
  {
   "cell_type": "code",
   "execution_count": 29,
   "id": "5c1818eb",
   "metadata": {},
   "outputs": [
    {
     "name": "stdout",
     "output_type": "stream",
     "text": [
      "1/1 [==============================] - 0s 323ms/step - loss: 0.1103 - accuracy: 0.9667\n"
     ]
    }
   ],
   "source": [
    "test_loss, test_accuracy= model.evaluate(test_data)"
   ]
  },
  {
   "cell_type": "code",
   "execution_count": 30,
   "id": "df972a22",
   "metadata": {},
   "outputs": [
    {
     "name": "stdout",
     "output_type": "stream",
     "text": [
      "Test loss: 0.11 Test accuracy: 96.67%\n"
     ]
    }
   ],
   "source": [
    "print('Test loss: {0:.2f} Test accuracy: {1:.2f}%'.format(test_loss,test_accuracy*100))"
   ]
  }
 ],
 "metadata": {
  "kernelspec": {
   "display_name": "Python 3 (ipykernel)",
   "language": "python",
   "name": "python3"
  },
  "language_info": {
   "codemirror_mode": {
    "name": "ipython",
    "version": 3
   },
   "file_extension": ".py",
   "mimetype": "text/x-python",
   "name": "python",
   "nbconvert_exporter": "python",
   "pygments_lexer": "ipython3",
   "version": "3.10.9"
  }
 },
 "nbformat": 4,
 "nbformat_minor": 5
}
